{
 "cells": [
  {
   "cell_type": "code",
   "execution_count": 1,
   "id": "da136291",
   "metadata": {},
   "outputs": [],
   "source": [
    "import math "
   ]
  },
  {
   "cell_type": "code",
   "execution_count": 4,
   "id": "d078dc74",
   "metadata": {},
   "outputs": [],
   "source": [
    "def vol(rad):\n",
    "    return (4/3) * math.pi * (rad**3)"
   ]
  },
  {
   "cell_type": "code",
   "execution_count": 5,
   "id": "a100a594",
   "metadata": {},
   "outputs": [
    {
     "data": {
      "text/plain": [
       "33.510321638291124"
      ]
     },
     "execution_count": 5,
     "metadata": {},
     "output_type": "execute_result"
    }
   ],
   "source": [
    "vol(2)"
   ]
  },
  {
   "cell_type": "code",
   "execution_count": 10,
   "id": "e645269b",
   "metadata": {},
   "outputs": [],
   "source": [
    "def ran_bool(num, low, high):\n",
    "    if num >= low and num <= high:\n",
    "        return True\n",
    "    else:\n",
    "        return False\n"
   ]
  },
  {
   "cell_type": "code",
   "execution_count": 11,
   "id": "b4fb2c04",
   "metadata": {},
   "outputs": [
    {
     "data": {
      "text/plain": [
       "True"
      ]
     },
     "execution_count": 11,
     "metadata": {},
     "output_type": "execute_result"
    }
   ],
   "source": [
    "# Check\n",
    "ran_bool(5,2,7)"
   ]
  },
  {
   "cell_type": "code",
   "execution_count": 12,
   "id": "a813de4b",
   "metadata": {},
   "outputs": [],
   "source": [
    "def ran_check(num, low, high):\n",
    "    if num >= low and num <= high:\n",
    "        print(num, \"is in the range between\", low, \"and\", high)\n",
    "    else:\n",
    "        print(num, \"is out of range\")"
   ]
  },
  {
   "cell_type": "code",
   "execution_count": 13,
   "id": "82f5bcbe",
   "metadata": {},
   "outputs": [
    {
     "name": "stdout",
     "output_type": "stream",
     "text": [
      "8 is out of range\n"
     ]
    }
   ],
   "source": [
    "ran_check(8,2,7)"
   ]
  },
  {
   "cell_type": "code",
   "execution_count": 22,
   "id": "393103eb",
   "metadata": {},
   "outputs": [],
   "source": [
    "def up_lows(s):\n",
    "    upper = 0\n",
    "    lower = 0\n",
    "    for char in s:\n",
    "        if char.isupper():\n",
    "            upper += 1\n",
    "        elif char.islower():\n",
    "            lower += 1\n",
    "            \n",
    "    print (\"No. of Upper case letters:\", upper)\n",
    "    print (\"No. of Lower case letters:\", lower)       "
   ]
  },
  {
   "cell_type": "code",
   "execution_count": 32,
   "id": "a81bf3f6",
   "metadata": {},
   "outputs": [
    {
     "name": "stdout",
     "output_type": "stream",
     "text": [
      "No. of Upper case letters: 4\n",
      "No. of Lower case letters: 33\n"
     ]
    }
   ],
   "source": [
    "s = \"Hello Mr. Rogers, how are you this fine Tuesday?\"\n",
    "up_lows(s)"
   ]
  },
  {
   "cell_type": "code",
   "execution_count": 33,
   "id": "a45dcedc",
   "metadata": {},
   "outputs": [],
   "source": [
    "def unique_list(lst):\n",
    "    unique_elements = []\n",
    "    for element in lst:\n",
    "        if element not in unique_elements:\n",
    "            unique_elements.append(element)\n",
    "    return unique_elements\n"
   ]
  },
  {
   "cell_type": "code",
   "execution_count": 34,
   "id": "3b057ec8",
   "metadata": {},
   "outputs": [
    {
     "data": {
      "text/plain": [
       "[1, 2, 3, 4, 5]"
      ]
     },
     "execution_count": 34,
     "metadata": {},
     "output_type": "execute_result"
    }
   ],
   "source": [
    "unique_list([1,1,1,1,2,2,3,3,3,3,4,5])"
   ]
  },
  {
   "cell_type": "code",
   "execution_count": 35,
   "id": "cebb0c42",
   "metadata": {},
   "outputs": [],
   "source": [
    "def multiply(numbers):\n",
    "    result = 1\n",
    "    for n in numbers:\n",
    "        result *= n\n",
    "    return result "
   ]
  },
  {
   "cell_type": "code",
   "execution_count": 36,
   "id": "54765776",
   "metadata": {},
   "outputs": [
    {
     "data": {
      "text/plain": [
       "-24"
      ]
     },
     "execution_count": 36,
     "metadata": {},
     "output_type": "execute_result"
    }
   ],
   "source": [
    "multiply([1,2,3,-4])"
   ]
  },
  {
   "cell_type": "code",
   "execution_count": 37,
   "id": "f34d1d45",
   "metadata": {},
   "outputs": [],
   "source": [
    "def palindrome(s):\n",
    "    s = s.lower()\n",
    "    s = s.replace(\" \", \"\")\n",
    "    return s == s[::-1]"
   ]
  },
  {
   "cell_type": "code",
   "execution_count": 39,
   "id": "6e3ecfa1",
   "metadata": {},
   "outputs": [
    {
     "data": {
      "text/plain": [
       "False"
      ]
     },
     "execution_count": 39,
     "metadata": {},
     "output_type": "execute_result"
    }
   ],
   "source": [
    "palindrome(\"hello\")"
   ]
  },
  {
   "cell_type": "code",
   "execution_count": 40,
   "id": "209a94e5",
   "metadata": {},
   "outputs": [
    {
     "data": {
      "text/plain": [
       "True"
      ]
     },
     "execution_count": 40,
     "metadata": {},
     "output_type": "execute_result"
    }
   ],
   "source": [
    "palindrome(\"Helleh\")"
   ]
  },
  {
   "cell_type": "code",
   "execution_count": 43,
   "id": "d9ce0273",
   "metadata": {},
   "outputs": [],
   "source": [
    "def ispangram(s):\n",
    "    alphabet = \"abcdefghijklmnopqrstuvwxyz\"\n",
    "    s = s.lower()\n",
    "    for char in alphabet:\n",
    "        if char not in s:\n",
    "            return False\n",
    "        else:\n",
    "            return True "
   ]
  },
  {
   "cell_type": "code",
   "execution_count": 44,
   "id": "11e94293",
   "metadata": {},
   "outputs": [
    {
     "data": {
      "text/plain": [
       "True"
      ]
     },
     "execution_count": 44,
     "metadata": {},
     "output_type": "execute_result"
    }
   ],
   "source": [
    "ispangram(\"The quick brown fox jumps over the lazy dog\")"
   ]
  },
  {
   "cell_type": "code",
   "execution_count": null,
   "id": "8fb0341c",
   "metadata": {},
   "outputs": [],
   "source": []
  }
 ],
 "metadata": {
  "kernelspec": {
   "display_name": "Python 3 (ipykernel)",
   "language": "python",
   "name": "python3"
  },
  "language_info": {
   "codemirror_mode": {
    "name": "ipython",
    "version": 3
   },
   "file_extension": ".py",
   "mimetype": "text/x-python",
   "name": "python",
   "nbconvert_exporter": "python",
   "pygments_lexer": "ipython3",
   "version": "3.9.13"
  }
 },
 "nbformat": 4,
 "nbformat_minor": 5
}
